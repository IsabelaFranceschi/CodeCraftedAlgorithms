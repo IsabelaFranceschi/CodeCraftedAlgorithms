{
 "cells": [
  {
   "cell_type": "markdown",
   "metadata": {},
   "source": [
    "# KNN (K-Nearest Neighbors) Algorithm"
   ]
  },
  {
   "cell_type": "markdown",
   "metadata": {},
   "source": [
    "*“Tell me who you walk with and I’ll tell you who you are.”*"
   ]
  },
  {
   "cell_type": "markdown",
   "metadata": {},
   "source": [
    "The K-Nearest Neighbors algorithm, commonly referred to as KNN, stands out as one of the simplest yet widely used supervised learning classification methods. KNN relies on the concept of feature similarity. This similarity is quantified by measuring the distances between the new data point and its k closest neighbors. Thus, the new data is classified by comparing it to its nearest neighbors from the training data. The closer they are, the more similar they are considered. This code presents one of the possibilities of developing the algorithm without using an external library."
   ]
  },
  {
   "cell_type": "markdown",
   "metadata": {},
   "source": [
    "### So lets get to work!"
   ]
  },
  {
   "cell_type": "markdown",
   "metadata": {},
   "source": [
    "The dataset used in this code is the well-known Iris dataset, a classic dataset for practicing machine learning techniques. It consists of measurements taken from 150 iris flowers from 3 different species: Iris setosa, Iris versicolor, and Iris virginica. For each flower, the dataset includes 4 features (measurements in cm):\n",
    "\n",
    "- Sepal Length\n",
    "- Sepal Width\n",
    "- Petal Length\n",
    "- Petal Width\n",
    "\n",
    "The KNN algorithm will predict the classification of a new plant based on these 4 features."
   ]
  },
  {
   "cell_type": "markdown",
   "metadata": {},
   "source": [
    "Part of the code was already provided by DSA and the development of KNN algorithm is in the space indicated by \"Write solution here\" in the cells below."
   ]
  },
  {
   "cell_type": "code",
   "execution_count": 1,
   "metadata": {},
   "outputs": [],
   "source": [
    "import numpy as np\n",
    "import pandas as pd\n",
    "from sklearn.model_selection import train_test_split\n",
    "from statistics import *\n",
    "from scipy import stats as s"
   ]
  },
  {
   "cell_type": "code",
   "execution_count": 5,
   "metadata": {},
   "outputs": [
    {
     "data": {
      "text/html": [
       "<div>\n",
       "<style scoped>\n",
       "    .dataframe tbody tr th:only-of-type {\n",
       "        vertical-align: middle;\n",
       "    }\n",
       "\n",
       "    .dataframe tbody tr th {\n",
       "        vertical-align: top;\n",
       "    }\n",
       "\n",
       "    .dataframe thead th {\n",
       "        text-align: right;\n",
       "    }\n",
       "</style>\n",
       "<table border=\"1\" class=\"dataframe\">\n",
       "  <thead>\n",
       "    <tr style=\"text-align: right;\">\n",
       "      <th></th>\n",
       "      <th>sepal_length</th>\n",
       "      <th>sepal_width</th>\n",
       "      <th>petal_length</th>\n",
       "      <th>petal_width</th>\n",
       "      <th>classe</th>\n",
       "    </tr>\n",
       "  </thead>\n",
       "  <tbody>\n",
       "    <tr>\n",
       "      <th>0</th>\n",
       "      <td>5.1</td>\n",
       "      <td>3.5</td>\n",
       "      <td>1.4</td>\n",
       "      <td>0.2</td>\n",
       "      <td>Iris-setosa</td>\n",
       "    </tr>\n",
       "    <tr>\n",
       "      <th>1</th>\n",
       "      <td>4.9</td>\n",
       "      <td>3.0</td>\n",
       "      <td>1.4</td>\n",
       "      <td>0.2</td>\n",
       "      <td>Iris-setosa</td>\n",
       "    </tr>\n",
       "    <tr>\n",
       "      <th>2</th>\n",
       "      <td>4.7</td>\n",
       "      <td>3.2</td>\n",
       "      <td>1.3</td>\n",
       "      <td>0.2</td>\n",
       "      <td>Iris-setosa</td>\n",
       "    </tr>\n",
       "  </tbody>\n",
       "</table>\n",
       "</div>"
      ],
      "text/plain": [
       "   sepal_length  sepal_width  petal_length  petal_width       classe\n",
       "0           5.1          3.5           1.4          0.2  Iris-setosa\n",
       "1           4.9          3.0           1.4          0.2  Iris-setosa\n",
       "2           4.7          3.2           1.3          0.2  Iris-setosa"
      ]
     },
     "execution_count": 5,
     "metadata": {},
     "output_type": "execute_result"
    }
   ],
   "source": [
    "# Data loading\n",
    "names = ['sepal_length', 'sepal_width', 'petal_length', 'petal_width', 'classe']\n",
    "iris_data = pd.read_csv('iris_data', names = names)\n",
    "iris_data.head(3)"
   ]
  },
  {
   "cell_type": "code",
   "execution_count": 6,
   "metadata": {},
   "outputs": [
    {
     "data": {
      "text/plain": [
       "(150, 5)"
      ]
     },
     "execution_count": 6,
     "metadata": {},
     "output_type": "execute_result"
    }
   ],
   "source": [
    "iris_data.shape"
   ]
  },
  {
   "cell_type": "code",
   "execution_count": 7,
   "metadata": {},
   "outputs": [],
   "source": [
    "# Instantiating the predictor variables and target variable\n",
    "X = iris_data.iloc[:,:4].values\n",
    "y = iris_data.iloc[:,4]\n",
    "\n",
    "# Labels for target variable\n",
    "target_class = pd.get_dummies(iris_data['classe']).columns\n",
    "target_names = np.array(target_class)"
   ]
  },
  {
   "cell_type": "code",
   "execution_count": 8,
   "metadata": {},
   "outputs": [],
   "source": [
    "# Converting classes to corresponding numeric values\n",
    "y = y.replace(target_names[0], 0)\n",
    "y = y.replace(target_names[1], 1)\n",
    "y = y.replace(target_names[2], 2)\n",
    "y = np.array(y)"
   ]
  },
  {
   "cell_type": "code",
   "execution_count": 9,
   "metadata": {},
   "outputs": [
    {
     "name": "stdout",
     "output_type": "stream",
     "text": [
      "(105, 4) (105,)\n"
     ]
    }
   ],
   "source": [
    "# Separating data into training and test sets\n",
    "X_train, X_test, y_train, y_test = train_test_split(X, y, test_size = 0.30, random_state = 33)\n",
    "print(X_train.shape, y_train.shape)"
   ]
  },
  {
   "cell_type": "code",
   "execution_count": 10,
   "metadata": {},
   "outputs": [],
   "source": [
    "# Function to calculate Euclidean distance\n",
    "def euclidian_distance(att1, att2):\n",
    "    dist = 0\n",
    "    for i in range(len(att1)):\n",
    "        dist += pow((att1[i] - att2[i]),2)\n",
    "    return np.sqrt(dist)"
   ]
  },
  {
   "cell_type": "markdown",
   "metadata": {},
   "source": [
    "### KNN Algorithm "
   ]
  },
  {
   "cell_type": "code",
   "execution_count": 11,
   "metadata": {},
   "outputs": [],
   "source": [
    "def KNN(array, k):\n",
    "    # Empty list to compute the predictions for each new data point:\n",
    "    predictions = []\n",
    "    \n",
    "    # Computing the distances between each new data point and the points of the training dataset:\n",
    "    for i in range(len(array)):\n",
    "        \n",
    "    # Empty list to compute the distances and the corresponding label: \n",
    "        distances_label = []\n",
    "        for j in range(len(X_train)):\n",
    "            dis = euclidian_distance(array[i], X_train[j])\n",
    "            distances_label.append([dis, y_train[j]])\n",
    "\n",
    "        # Sorting the distances in ascending order for having the shortest ones first:\n",
    "        distances_label.sort()\n",
    "        # Empty list to compute the corresponding labels related to the shortest distances:\n",
    "        labels = []\n",
    "        for l in range(k):\n",
    "            labels.append(distances_label[k][1])\n",
    "\n",
    "        # Voting:\n",
    "        result = int(s.mode(labels)[0])\n",
    "        \n",
    "        # Adding the resulting label of the new data point under analysis:\n",
    "        predictions.append(result)\n",
    "        \n",
    "    return predictions  "
   ]
  },
  {
   "cell_type": "markdown",
   "metadata": {},
   "source": [
    "### Model Evaluation"
   ]
  },
  {
   "cell_type": "code",
   "execution_count": 12,
   "metadata": {},
   "outputs": [
    {
     "name": "stderr",
     "output_type": "stream",
     "text": [
      "/var/folders/8t/n60p715542589j7t5hyj5_zm0000gn/T/ipykernel_3795/3774502082.py:22: FutureWarning: Unlike other reduction functions (e.g. `skew`, `kurtosis`), the default behavior of `mode` typically preserves the axis it acts along. In SciPy 1.11.0, this behavior will change: the default value of `keepdims` will become False, the `axis` over which the statistic is taken will be eliminated, and the value None will no longer be accepted. Set `keepdims` to True or False to avoid this warning.\n",
      "  result = int(s.mode(labels)[0])\n"
     ]
    }
   ],
   "source": [
    "y_test_pred = KNN(X_test, 5)\n",
    "y_test_prediction = np.asarray(y_test_pred)"
   ]
  },
  {
   "cell_type": "markdown",
   "metadata": {},
   "source": [
    "### Accuracy"
   ]
  },
  {
   "cell_type": "code",
   "execution_count": 13,
   "metadata": {},
   "outputs": [
    {
     "name": "stdout",
     "output_type": "stream",
     "text": [
      "The achieved accuracy is: 91.11%\n"
     ]
    }
   ],
   "source": [
    "# As we have the observed values for the predictions we made, we can compare them and see how accurate the model is:\n",
    "acc = y_test - y_test_prediction\n",
    "err = np.count_nonzero(acc)\n",
    "accuracy = ((len(y_test) - err) / len(y_test)) * 100\n",
    "print(\"The achieved accuracy is: {}%\".format(round(accuracy,2)))"
   ]
  }
 ],
 "metadata": {
  "kernelspec": {
   "display_name": "Python 3 (ipykernel)",
   "language": "python",
   "name": "python3"
  },
  "language_info": {
   "codemirror_mode": {
    "name": "ipython",
    "version": 3
   },
   "file_extension": ".py",
   "mimetype": "text/x-python",
   "name": "python",
   "nbconvert_exporter": "python",
   "pygments_lexer": "ipython3",
   "version": "3.9.13"
  }
 },
 "nbformat": 4,
 "nbformat_minor": 2
}
